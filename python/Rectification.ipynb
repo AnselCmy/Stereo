{
 "cells": [
  {
   "cell_type": "code",
   "execution_count": 1,
   "metadata": {
    "collapsed": true,
    "deletable": true,
    "editable": true
   },
   "outputs": [],
   "source": [
    "import numpy as np\n",
    "import cv2\n",
    "import glob\n",
    "import os"
   ]
  },
  {
   "cell_type": "code",
   "execution_count": 2,
   "metadata": {
    "collapsed": false,
    "deletable": true,
    "editable": true
   },
   "outputs": [],
   "source": [
    "# termination criteria\n",
    "criteria = (cv2.TERM_CRITERIA_EPS + cv2.TERM_CRITERIA_MAX_ITER, 30, 0.001)\n",
    "\n",
    "# prepare object points, like (0,0,0), (1,0,0), (2,0,0) ....,(6,5,0)\n",
    "objp = np.zeros((6*7,3), np.float32)\n",
    "objp[:,:2] = np.mgrid[0:7,0:6].T.reshape(-1,2)\n",
    "\n",
    "# Arrays to store object points and image points from all the images.\n",
    "objpoints = [] # 3d point in real world space\n",
    "left_imgpoints = [] # 2d points in image plane.\n",
    "right_imgpoints = [] # 2d points in image plane.\n",
    "\n",
    "left_images = glob.glob('../img/left/*.jpg')\n",
    "right_images = glob.glob('../img/right/*.jpg')\n",
    "\n",
    "for left_fname, right_fname in zip(left_images, right_images):\n",
    "    left_img = cv2.imread(left_fname)\n",
    "    right_img = cv2.imread(right_fname)\n",
    "    left_gray = cv2.cvtColor(left_img,cv2.COLOR_BGR2GRAY)\n",
    "    right_gray = cv2.cvtColor(right_img,cv2.COLOR_BGR2GRAY)\n",
    "    left_ret, left_corners = cv2.findChessboardCorners(left_gray, (7,6), None)\n",
    "    right_ret, right_corners = cv2.findChessboardCorners(right_gray, (7,6), None)\n",
    "    if left_ret and right_ret:\n",
    "        objpoints.append(objp)\n",
    "        cv2.cornerSubPix(left_gray, left_corners, (11,11), (-1,-1), criteria)\n",
    "        cv2.cornerSubPix(right_gray, right_corners, (11,11), (-1,-1), criteria)\n",
    "        left_imgpoints.append(left_corners)\n",
    "        right_imgpoints.append(right_corners)\n",
    "        \n",
    "imgSize = left_gray.shape[::-1];        \n",
    "ret1, mtx1, dist1, rvecs1, tvecs1 = cv2.calibrateCamera(objpoints, left_imgpoints, imgSize, None, None)\n",
    "ret2, mtx2, dist2, rvecs2, tvecs2 = cv2.calibrateCamera(objpoints, right_imgpoints, imgSize, None, None)\n",
    "retv, mtx1, dist1, mtx2, dist2, R, T, E, F = \\\n",
    "cv2.stereoCalibrate(objpoints, left_imgpoints, right_imgpoints, mtx1, dist1, mtx2, dist2, imgSize, criteria)"
   ]
  },
  {
   "cell_type": "code",
   "execution_count": 12,
   "metadata": {
    "collapsed": false,
    "deletable": true,
    "editable": true
   },
   "outputs": [],
   "source": [
    "if not os.path.isdir('../img/left_undistort'):\n",
    "    os.makedirs('../img/left_undistort')\n",
    "if not os.path.isdir('../img/right_undistort'):\n",
    "    os.makedirs('../img/right_undistort')\n",
    "for fname in left_images + right_images:\n",
    "    img = cv2.imread(fname)\n",
    "    img = cv2.cvtColor(img, cv2.COLOR_BGR2GRAY)\n",
    "    h, w = img.shape[:2]\n",
    "    if fname.split(\"/\")[-1][0] == 'l':\n",
    "        mtx = mtx1\n",
    "        dist = dist1\n",
    "        file_name = '../img/left_undistort/'\n",
    "    elif fname.split(\"/\")[-1][0] == 'r':\n",
    "        mtx = mtx2\n",
    "        dist = dist2\n",
    "        file_name = '../img/right_undistort/'\n",
    "#     newcameramtx, roi=cv2.getOptimalNewCameraMatrix(mtx, dist, (w,h), 1, (w,h))\n",
    "    # undistort\n",
    "    dst = cv2.undistort(img, mtx, dist, None, None)\n",
    "    # crop the image\n",
    "#     x,y,w,h = roi\n",
    "#     dst = dst[y:y+h, x:x+w]\n",
    "    path = file_name+fname.split('/')[-1]\n",
    "    cv2.imwrite(path, dst)"
   ]
  },
  {
   "cell_type": "code",
   "execution_count": 13,
   "metadata": {
    "collapsed": false,
    "deletable": true,
    "editable": true
   },
   "outputs": [],
   "source": [
    "R1, R2, P1, P2, Q, roi1, roi2 = cv2.stereoRectify(mtx1, dist1, mtx2, dist2, imgSize, R, T)"
   ]
  },
  {
   "cell_type": "code",
   "execution_count": 14,
   "metadata": {
    "collapsed": false,
    "deletable": true,
    "editable": true
   },
   "outputs": [],
   "source": [
    "mapL1, mapL2 = cv2.initUndistortRectifyMap(mtx1, dist1, R1, P1, imgSize, cv2.CV_32FC1);\n",
    "mapR1, mapR2 = cv2.initUndistortRectifyMap(mtx2, dist2, R2, P2, imgSize, cv2.CV_32FC1);"
   ]
  },
  {
   "cell_type": "code",
   "execution_count": 15,
   "metadata": {
    "collapsed": false,
    "deletable": true,
    "editable": true
   },
   "outputs": [
    {
     "ename": "error",
     "evalue": "/tmp/opencv-20171112-69002-161xh9l/opencv-3.3.1/modules/imgproc/src/color.cpp:11048: error: (-215) scn == 3 || scn == 4 in function cvtColor\n",
     "output_type": "error",
     "traceback": [
      "\u001b[0;31m---------------------------------------------------------------------------\u001b[0m",
      "\u001b[0;31merror\u001b[0m                                     Traceback (most recent call last)",
      "\u001b[0;32m<ipython-input-15-27cff764e32f>\u001b[0m in \u001b[0;36m<module>\u001b[0;34m()\u001b[0m\n\u001b[1;32m      4\u001b[0m     \u001b[0mos\u001b[0m\u001b[0;34m.\u001b[0m\u001b[0mmakedirs\u001b[0m\u001b[0;34m(\u001b[0m\u001b[0;34m'./rectify'\u001b[0m\u001b[0;34m)\u001b[0m\u001b[0;34m\u001b[0m\u001b[0m\n\u001b[1;32m      5\u001b[0m \u001b[0mimg_left\u001b[0m \u001b[0;34m=\u001b[0m \u001b[0mcv2\u001b[0m\u001b[0;34m.\u001b[0m\u001b[0mimread\u001b[0m\u001b[0;34m(\u001b[0m\u001b[0;34m\"./left_undistort/left\"\u001b[0m\u001b[0;34m+\u001b[0m\u001b[0mpic_num\u001b[0m\u001b[0;34m+\u001b[0m\u001b[0;34m\".jpg\"\u001b[0m\u001b[0;34m)\u001b[0m\u001b[0;34m\u001b[0m\u001b[0m\n\u001b[0;32m----> 6\u001b[0;31m \u001b[0mgray_left\u001b[0m \u001b[0;34m=\u001b[0m \u001b[0mcv2\u001b[0m\u001b[0;34m.\u001b[0m\u001b[0mcvtColor\u001b[0m\u001b[0;34m(\u001b[0m\u001b[0mimg_left\u001b[0m\u001b[0;34m,\u001b[0m \u001b[0mcv2\u001b[0m\u001b[0;34m.\u001b[0m\u001b[0mCOLOR_BGR2GRAY\u001b[0m\u001b[0;34m)\u001b[0m\u001b[0;34m\u001b[0m\u001b[0m\n\u001b[0m\u001b[1;32m      7\u001b[0m \u001b[0mimg_right\u001b[0m \u001b[0;34m=\u001b[0m \u001b[0mcv2\u001b[0m\u001b[0;34m.\u001b[0m\u001b[0mimread\u001b[0m\u001b[0;34m(\u001b[0m\u001b[0;34m\"./right_undistort/right\"\u001b[0m\u001b[0;34m+\u001b[0m\u001b[0mpic_num\u001b[0m\u001b[0;34m+\u001b[0m\u001b[0;34m\".jpg\"\u001b[0m\u001b[0;34m)\u001b[0m\u001b[0;34m\u001b[0m\u001b[0m\n\u001b[1;32m      8\u001b[0m \u001b[0mgray_right\u001b[0m \u001b[0;34m=\u001b[0m \u001b[0mcv2\u001b[0m\u001b[0;34m.\u001b[0m\u001b[0mcvtColor\u001b[0m\u001b[0;34m(\u001b[0m\u001b[0mimg_right\u001b[0m\u001b[0;34m,\u001b[0m \u001b[0mcv2\u001b[0m\u001b[0;34m.\u001b[0m\u001b[0mCOLOR_BGR2GRAY\u001b[0m\u001b[0;34m)\u001b[0m\u001b[0;34m\u001b[0m\u001b[0m\n",
      "\u001b[0;31merror\u001b[0m: /tmp/opencv-20171112-69002-161xh9l/opencv-3.3.1/modules/imgproc/src/color.cpp:11048: error: (-215) scn == 3 || scn == 4 in function cvtColor\n"
     ]
    }
   ],
   "source": [
    "pic_num = \"01\"\n",
    "\n",
    "if not os.path.isdir('./rectify'):\n",
    "    os.makedirs('./rectify')\n",
    "img_left = cv2.imread(\"./left_undistort/left\"+pic_num+\".jpg\")\n",
    "gray_left = cv2.cvtColor(img_left, cv2.COLOR_BGR2GRAY)\n",
    "img_right = cv2.imread(\"./right_undistort/right\"+pic_num+\".jpg\")\n",
    "gray_right = cv2.cvtColor(img_right, cv2.COLOR_BGR2GRAY)\n",
    "\n",
    "cv2.imwrite(\"./rectify/org_left\"+pic_num+\".jpg\", gray_left)\n",
    "cv2.imwrite(\"./rectify/org_right\"+pic_num+\".jpg\", gray_right)\n",
    "\n",
    "undistorted_rectified_left = cv2.remap(gray_left, mapL1, mapL2, cv2.INTER_LINEAR);\n",
    "undistorted_rectified_right = cv2.remap(gray_right, mapL1, mapL2, cv2.INTER_LINEAR);\n",
    "\n",
    "# crop the image\n",
    "# x, y, w, h = roi1\n",
    "# undistorted_rectified_left = undistorted_rectified_left[y:y+h, x:x+w]\n",
    "# x, y, w, h = roi2\n",
    "# undistorted_rectified_right = undistorted_rectified_right[y:y+h, x:x+w]\n",
    "\n",
    "cv2.imwrite(\"./rectify/left\"+pic_num+\".jpg\", undistorted_rectified_left)\n",
    "cv2.imwrite(\"./rectify/right\"+pic_num+\".jpg\", undistorted_rectified_right)"
   ]
  },
  {
   "cell_type": "code",
   "execution_count": null,
   "metadata": {
    "collapsed": true,
    "deletable": true,
    "editable": true
   },
   "outputs": [],
   "source": []
  }
 ],
 "metadata": {
  "anaconda-cloud": {},
  "kernelspec": {
   "display_name": "Python [conda env:cv3]",
   "language": "python",
   "name": "conda-env-cv3-py"
  },
  "language_info": {
   "codemirror_mode": {
    "name": "ipython",
    "version": 3
   },
   "file_extension": ".py",
   "mimetype": "text/x-python",
   "name": "python",
   "nbconvert_exporter": "python",
   "pygments_lexer": "ipython3",
   "version": "3.6.2"
  }
 },
 "nbformat": 4,
 "nbformat_minor": 1
}
