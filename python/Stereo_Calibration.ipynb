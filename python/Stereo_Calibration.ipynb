{
 "cells": [
  {
   "cell_type": "code",
   "execution_count": 30,
   "metadata": {
    "collapsed": false,
    "deletable": true,
    "editable": true
   },
   "outputs": [],
   "source": [
    "import numpy as np\n",
    "import cv2\n",
    "import glob\n",
    "import os"
   ]
  },
  {
   "cell_type": "code",
   "execution_count": 31,
   "metadata": {
    "collapsed": false,
    "deletable": true,
    "editable": true
   },
   "outputs": [],
   "source": [
    "# termination criteria\n",
    "criteria = (cv2.TERM_CRITERIA_EPS + cv2.TERM_CRITERIA_MAX_ITER, 30, 0.001)\n",
    "\n",
    "# prepare object points, like (0,0,0), (1,0,0), (2,0,0) ....,(6,5,0)\n",
    "objp = np.zeros((6*7,3), np.float32)\n",
    "objp[:,:2] = np.mgrid[0:7,0:6].T.reshape(-1,2)\n",
    "\n",
    "# Arrays to store object points and image points from all the images.\n",
    "objpoints = [] # 3d point in real world space\n",
    "left_imgpoints = [] # 2d points in image plane.\n",
    "right_imgpoints = [] # 2d points in image plane.\n",
    "\n",
    "left_images = glob.glob('../img/left/*.jpg')\n",
    "right_images = glob.glob('../img/right/*.jpg')\n",
    "\n",
    "for left_fname, right_fname in zip(left_images, right_images):\n",
    "    left_img = cv2.imread(left_fname)\n",
    "    right_img = cv2.imread(right_fname)\n",
    "    left_gray = cv2.cvtColor(left_img,cv2.COLOR_BGR2GRAY)\n",
    "    right_gray = cv2.cvtColor(right_img,cv2.COLOR_BGR2GRAY)\n",
    "    left_ret, left_corners = cv2.findChessboardCorners(left_gray, (7,6), None)\n",
    "    right_ret, right_corners = cv2.findChessboardCorners(right_gray, (7,6), None)\n",
    "    if left_ret and right_ret:\n",
    "        objpoints.append(objp)\n",
    "        cv2.cornerSubPix(left_gray, left_corners, (11,11), (-1,-1), criteria)\n",
    "        cv2.cornerSubPix(right_gray, right_corners, (11,11), (-1,-1), criteria)\n",
    "        left_imgpoints.append(left_corners)\n",
    "        right_imgpoints.append(right_corners)\n",
    "        \n",
    "ret1, mtx1, dist1, rvecs1, tvecs1 = cv2.calibrateCamera(objpoints, left_imgpoints, left_gray.shape[::-1], None, None)\n",
    "ret2, mtx2, dist2, rvecs2, tvecs2 = cv2.calibrateCamera(objpoints, right_imgpoints, left_gray.shape[::-1], None, None)"
   ]
  },
  {
   "cell_type": "code",
   "execution_count": 32,
   "metadata": {
    "collapsed": false,
    "deletable": true,
    "editable": true
   },
   "outputs": [],
   "source": [
    "retv, mtx1, dist1, mtx2, dist2, R, T, E, F = \\\n",
    "cv2.stereoCalibrate(objpoints, left_imgpoints, right_imgpoints, mtx1, dist1, mtx2, dist2, left_gray.shape[::-1], criteria)"
   ]
  },
  {
   "cell_type": "code",
   "execution_count": 33,
   "metadata": {
    "collapsed": false,
    "deletable": true,
    "editable": true
   },
   "outputs": [
    {
     "data": {
      "text/plain": [
       "array([[ 535.04584846,    0.        ,  341.29707287],\n",
       "       [   0.        ,  535.34171797,  233.71686258],\n",
       "       [   0.        ,    0.        ,    1.        ]])"
      ]
     },
     "execution_count": 33,
     "metadata": {},
     "output_type": "execute_result"
    }
   ],
   "source": [
    "mtx1"
   ]
  },
  {
   "cell_type": "code",
   "execution_count": 19,
   "metadata": {
    "collapsed": false,
    "deletable": true,
    "editable": true
   },
   "outputs": [
    {
     "data": {
      "text/plain": [
       "array([[ -2.94287880e-01,   1.07251583e-01,   1.47206922e-03,\n",
       "          2.29315345e-04,   5.38660840e-02]])"
      ]
     },
     "execution_count": 19,
     "metadata": {},
     "output_type": "execute_result"
    }
   ],
   "source": [
    "dist1"
   ]
  },
  {
   "cell_type": "code",
   "execution_count": 20,
   "metadata": {
    "collapsed": false,
    "deletable": true,
    "editable": true
   },
   "outputs": [
    {
     "data": {
      "text/plain": [
       "array([[ 538.13540769,    0.        ,  326.09424291],\n",
       "       [   0.        ,  537.66198584,  247.87749169],\n",
       "       [   0.        ,    0.        ,    1.        ]])"
      ]
     },
     "execution_count": 20,
     "metadata": {},
     "output_type": "execute_result"
    }
   ],
   "source": [
    "mtx2"
   ]
  },
  {
   "cell_type": "code",
   "execution_count": 21,
   "metadata": {
    "collapsed": false,
    "deletable": true,
    "editable": true
   },
   "outputs": [
    {
     "data": {
      "text/plain": [
       "array([[ -3.01741568e-01,   2.07774829e-01,  -2.57939547e-05,\n",
       "          1.10971971e-03,  -1.90194386e-01]])"
      ]
     },
     "execution_count": 21,
     "metadata": {},
     "output_type": "execute_result"
    }
   ],
   "source": [
    "dist2"
   ]
  },
  {
   "cell_type": "code",
   "execution_count": 22,
   "metadata": {
    "collapsed": false,
    "deletable": true,
    "editable": true
   },
   "outputs": [
    {
     "data": {
      "text/plain": [
       "array([[ 0.48989772,  0.36939739,  0.78964916],\n",
       "       [ 0.07713897,  0.88386877, -0.46133022],\n",
       "       [-0.86836041,  0.28691735,  0.40451036]])"
      ]
     },
     "execution_count": 22,
     "metadata": {},
     "output_type": "execute_result"
    }
   ],
   "source": [
    "R"
   ]
  },
  {
   "cell_type": "code",
   "execution_count": 23,
   "metadata": {
    "collapsed": false,
    "deletable": true,
    "editable": true
   },
   "outputs": [
    {
     "data": {
      "text/plain": [
       "array([[-12.73694515],\n",
       "       [  5.27754566],\n",
       "       [  8.81414828]])"
      ]
     },
     "execution_count": 23,
     "metadata": {},
     "output_type": "execute_result"
    }
   ],
   "source": [
    "T"
   ]
  },
  {
   "cell_type": "code",
   "execution_count": 24,
   "metadata": {
    "collapsed": false,
    "deletable": true,
    "editable": true
   },
   "outputs": [
    {
     "data": {
      "text/plain": [
       "array([[ -5.26272606,  -6.276331  ,   6.20105488],\n",
       "       [ -6.74222778,   6.91037388,  12.11231105],\n",
       "       [ -3.56797245, -13.20729964,   1.70852824]])"
      ]
     },
     "execution_count": 24,
     "metadata": {},
     "output_type": "execute_result"
    }
   ],
   "source": [
    "E"
   ]
  },
  {
   "cell_type": "code",
   "execution_count": 25,
   "metadata": {
    "collapsed": false,
    "deletable": true,
    "editable": true
   },
   "outputs": [
    {
     "data": {
      "text/plain": [
       "array([[  4.71339795e-06,   5.61809520e-06,  -5.89324113e-03],\n",
       "       [  6.04378493e-06,  -6.19108884e-06,  -6.42506143e-03],\n",
       "       [ -1.31549467e-03,   6.06453259e-03,   1.00000000e+00]])"
      ]
     },
     "execution_count": 25,
     "metadata": {},
     "output_type": "execute_result"
    }
   ],
   "source": [
    "F"
   ]
  },
  {
   "cell_type": "code",
   "execution_count": null,
   "metadata": {
    "collapsed": true
   },
   "outputs": [],
   "source": []
  }
 ],
 "metadata": {
  "anaconda-cloud": {},
  "kernelspec": {
   "display_name": "Python [conda env:cv3]",
   "language": "python",
   "name": "conda-env-cv3-py"
  },
  "language_info": {
   "codemirror_mode": {
    "name": "ipython",
    "version": 3
   },
   "file_extension": ".py",
   "mimetype": "text/x-python",
   "name": "python",
   "nbconvert_exporter": "python",
   "pygments_lexer": "ipython3",
   "version": "3.6.2"
  }
 },
 "nbformat": 4,
 "nbformat_minor": 1
}
